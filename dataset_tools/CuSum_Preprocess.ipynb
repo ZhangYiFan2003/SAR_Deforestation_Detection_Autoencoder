{
 "cells": [
  {
   "cell_type": "code",
   "execution_count": null,
   "id": "d37d39c5",
   "metadata": {},
   "outputs": [],
   "source": [
    "!pip show pyrasta\n",
    "!pip show gdal\n",
    "!pip show cusum\n"
   ]
  },
  {
   "cell_type": "code",
   "execution_count": null,
   "id": "2d159a24",
   "metadata": {},
   "outputs": [],
   "source": [
    "import pyproj\n",
    "pyproj.datadir.set_data_dir(\"/home/yifan/anaconda3/envs/myenv/share/proj\")\n",
    "print(pyproj.datadir.get_data_dir())"
   ]
  },
  {
   "cell_type": "code",
   "execution_count": 3,
   "id": "0448f655",
   "metadata": {},
   "outputs": [],
   "source": [
    "from cusum.cusum_cls import CuSum_"
   ]
  },
  {
   "cell_type": "code",
   "execution_count": 4,
   "id": "f8ab7375",
   "metadata": {},
   "outputs": [],
   "source": [
    "USER = r\"\"  \n",
    "PASS = r\"\"\n",
    "\n",
    "study_site = r\"/home/yifan/Documents/S5_Cusum_avec_Dataset/Zone_Dataset.shp\"\n",
    "\n",
    "start_date = \"05-01-2021\"  \n",
    "last_date = \"08-01-2021\"\n",
    "\n",
    "path = r\"/home/yifan/foret\""
   ]
  },
  {
   "cell_type": "code",
   "execution_count": null,
   "id": "f0cc1b56",
   "metadata": {},
   "outputs": [],
   "source": [
    "print(study_site)\n",
    "print(start_date)\n",
    "print(last_date)"
   ]
  },
  {
   "cell_type": "code",
   "execution_count": null,
   "id": "033d2e18",
   "metadata": {},
   "outputs": [],
   "source": [
    "if __name__ == '__main__':\n",
    "\n",
    "    obj = CuSum_(path, start_date, last_date, study_site)\n",
    "    \n",
    "    obj.sentinel1_download(start_date, last_date, USER, PASS, platform=\"Sentinel-1A\", polarizations=\"VV+VH\")\n",
    "    \n",
    "    obj.preprocess()"
   ]
  }
 ],
 "metadata": {
  "kernelspec": {
   "display_name": "geo_env",
   "language": "python",
   "name": "python3"
  },
  "language_info": {
   "codemirror_mode": {
    "name": "ipython",
    "version": 3
   },
   "file_extension": ".py",
   "mimetype": "text/x-python",
   "name": "python",
   "nbconvert_exporter": "python",
   "pygments_lexer": "ipython3",
   "version": "3.9.18"
  }
 },
 "nbformat": 4,
 "nbformat_minor": 5
}
