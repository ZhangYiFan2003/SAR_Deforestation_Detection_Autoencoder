{
 "cells": [
  {
   "cell_type": "code",
   "execution_count": 9,
   "metadata": {},
   "outputs": [
    {
     "name": "stdout",
     "output_type": "stream",
     "text": [
      "/home/yifan/anaconda3/envs/myenv/share/proj\n"
     ]
    }
   ],
   "source": [
    "import pyproj\n",
    "pyproj.datadir.set_data_dir(\"/home/yifan/anaconda3/envs/myenv/share/proj\")\n",
    "print(pyproj.datadir.get_data_dir())"
   ]
  },
  {
   "cell_type": "code",
   "execution_count": 10,
   "metadata": {},
   "outputs": [],
   "source": [
    "import geopandas as gpd\n",
    "import pandas as pd\n",
    "import numpy as np\n",
    "from shapely.geometry import box\n",
    "from sklearn.metrics import precision_score, recall_score, f1_score, jaccard_score\n",
    "import rasterio\n",
    "from rasterio import features\n",
    "from rasterio.features import geometry_mask\n",
    "from rasterio.transform import from_origin"
   ]
  },
  {
   "cell_type": "code",
   "execution_count": 11,
   "metadata": {},
   "outputs": [],
   "source": [
    "# 栅格化函数\n",
    "def rasterize_polygon(gdf, transform, width, height):\n",
    "    shapes = [(geom, 1) for geom in gdf.geometry]\n",
    "    raster = features.rasterize(shapes, out_shape=(height, width), transform=transform, fill=0, dtype='int16')\n",
    "    return raster"
   ]
  },
  {
   "cell_type": "code",
   "execution_count": 12,
   "metadata": {},
   "outputs": [],
   "source": [
    "# 计算两年 forest_mask 之间的差异并返回差异栅格\n",
    "def calculate_forest_loss(forest_mask_2020_path, forest_mask_2021_path):\n",
    "    # 读取2020和2021年的forest_mask文件\n",
    "    forest_2020 = gpd.read_file(forest_mask_2020_path)\n",
    "    forest_2021 = gpd.read_file(forest_mask_2021_path)\n",
    "    \n",
    "    # 定义栅格化的分辨率\n",
    "    pixel_size = 0.0001  # 根据你的需求调整分辨率\n",
    "\n",
    "    # 获取两者的联合边界（bounding box）\n",
    "    bounds_2020 = forest_2020.total_bounds\n",
    "    bounds_2021 = forest_2021.total_bounds\n",
    "    \n",
    "    # 获取两个年份 forest_mask 的联合 bounding box\n",
    "    minx = min(bounds_2020[0], bounds_2021[0])\n",
    "    miny = min(bounds_2020[1], bounds_2021[1])\n",
    "    maxx = max(bounds_2020[2], bounds_2021[2])\n",
    "    maxy = max(bounds_2020[3], bounds_2021[3])\n",
    "    \n",
    "    # 创建输出的栅格形状\n",
    "    width = int((maxx - minx) / pixel_size)\n",
    "    height = int((maxy - miny) / pixel_size)\n",
    "    \n",
    "    # 定义栅格的元数据\n",
    "    transform = rasterio.transform.from_bounds(minx, miny, maxx, maxy, width, height)\n",
    "    \n",
    "    # 将多边形栅格化\n",
    "    raster_2020 = rasterize_polygon(forest_2020, transform, width, height)\n",
    "    raster_2021 = rasterize_polygon(forest_2021, transform, width, height)\n",
    "    \n",
    "    # 创建差异栅格\n",
    "    # 值为1表示森林损失，值为-1表示森林恢复，值为0表示没有变化\n",
    "    difference_raster = np.zeros_like(raster_2020, dtype='int16')\n",
    "    difference_raster[np.logical_and(raster_2020 == 1, raster_2021 == 0)] = 1  # 森林损失\n",
    "    difference_raster[np.logical_and(raster_2020 == 0, raster_2021 == 1)] = -1  # 森林恢复\n",
    "    \n",
    "    # 计算森林减少的总像素数\n",
    "    forest_loss_count = np.sum(difference_raster == 1)\n",
    "    \n",
    "    # 计算森林恢复的总像素数\n",
    "    forest_recovery_count = np.sum(difference_raster == -1)\n",
    "    \n",
    "    # 输出结果\n",
    "    print(f\"Forest loss area (in pixels): {forest_loss_count}\")\n",
    "    print(f\"Forest recovery area (in pixels): {forest_recovery_count}\")\n",
    "    \n",
    "    # 返回差异栅格及元数据\n",
    "    return difference_raster, transform, width, height"
   ]
  },
  {
   "cell_type": "code",
   "execution_count": 13,
   "metadata": {},
   "outputs": [],
   "source": [
    "def manual_forest_loss(transform, width, height, merged_shp_path):\n",
    "    # 读取合并后的标注shp文件\n",
    "    merged_shp = gpd.read_file(merged_shp_path)\n",
    "    merged_raster = rasterize_polygon(merged_shp, transform, width, height)\n",
    "\n",
    "    # 将 merged_raster 二值化（假设标注文件中的所有值为1，其他区域为0）\n",
    "    merged_raster = (merged_raster > 0).astype('int16')\n",
    "    \n",
    "    return merged_raster"
   ]
  },
  {
   "cell_type": "code",
   "execution_count": 14,
   "metadata": {},
   "outputs": [],
   "source": [
    "# 计算差异栅格与手动标注的对比指标\n",
    "def calculate_metrics(difference_raster, merged_raster):\n",
    "    # 展平栅格以进行像素级别的对比\n",
    "    difference_raster_flat = difference_raster.flatten()\n",
    "    merged_raster_flat = merged_raster.flatten()\n",
    "\n",
    "    # 只考虑difference_raster和merged_raster中非0的部分，避免计算过程中包含无效区域\n",
    "    valid_mask = (difference_raster_flat != 0) | (merged_raster_flat != 0)\n",
    "\n",
    "    # 提取有效像素进行对比\n",
    "    y_true = merged_raster_flat[valid_mask]  # 手动标注值\n",
    "    y_pred = (difference_raster_flat[valid_mask] == 1).astype('int16')  # 预测的森林损失区域\n",
    "\n",
    "    # 检查y_true和y_pred的分布，避免全为一类的情况\n",
    "    if y_true.sum() == 0 or y_pred.sum() == 0:\n",
    "        print(\"警告：y_true或y_pred中没有正样本或负样本，可能导致召回率或精确率异常。\")\n",
    "        return None, None, None, None\n",
    "\n",
    "    # 计算评估指标\n",
    "    precision = precision_score(y_true, y_pred, zero_division=0)\n",
    "    recall = recall_score(y_true, y_pred, zero_division=0)\n",
    "    f1 = f1_score(y_true, y_pred, zero_division=0)\n",
    "    iou = jaccard_score(y_true, y_pred, zero_division=0)\n",
    "\n",
    "    # 输出结果\n",
    "    print(f\"Precision: {precision}\")\n",
    "    print(f\"Recall: {recall}\")\n",
    "    print(f\"F1-score: {f1}\")\n",
    "    print(f\"IoU: {iou}\")\n",
    "\n",
    "    return precision, recall, f1, iou"
   ]
  },
  {
   "cell_type": "code",
   "execution_count": 15,
   "metadata": {},
   "outputs": [],
   "source": [
    "def calculate_metrics_between_rasters(pred_raster, true_raster):\n",
    "    \"\"\"\n",
    "    计算两个栅格（预测与真实标注）之间的 TP, FP, FN，并返回 Precision, Recall, F1-score 和 IoU。\n",
    "    \n",
    "    参数:\n",
    "    - pred_raster: numpy 数组，预测栅格，值为 1 表示正类，0 表示负类。\n",
    "    - true_raster: numpy 数组，真实标注栅格，值为 1 表示正类，0 表示负类。\n",
    "    \n",
    "    返回:\n",
    "    - TP: 真正例的数量\n",
    "    - FP: 假正例的数量\n",
    "    - FN: 假负例的数量\n",
    "    - Precision: 精确率\n",
    "    - Recall: 召回率\n",
    "    - F1-score: F1 分数\n",
    "    - IoU: 交并比 (Intersection over Union)\n",
    "    \"\"\"\n",
    "    \n",
    "    # 确保两个栅格的形状相同\n",
    "    assert pred_raster.shape == true_raster.shape, \"两个栅格的尺寸必须相同\"\n",
    "    \n",
    "    # 计算 TP, FP, FN\n",
    "    TP = np.sum((pred_raster == 1) & (true_raster == 1))  # 预测为1，且真实为1\n",
    "    FP = np.sum((pred_raster == 1) & (true_raster == 0))  # 预测为1，但真实为0\n",
    "    FN = np.sum((pred_raster == 0) & (true_raster == 1))  # 预测为0，但真实为1\n",
    "    \n",
    "    #print(TP)\n",
    "    #print(FP)\n",
    "    #print(FN)\n",
    "\n",
    "    # 计算 Precision, Recall, F1-score, IoU\n",
    "    if TP + FP > 0:\n",
    "        precision = TP / (TP + FP)\n",
    "    else:\n",
    "        precision = 0.0\n",
    "\n",
    "    if TP + FN > 0:\n",
    "        recall = TP / (TP + FN)\n",
    "    else:\n",
    "        recall = 0.0\n",
    "\n",
    "    if precision + recall > 0:\n",
    "        f1_score = 2 * (precision * recall) / (precision + recall)\n",
    "    else:\n",
    "        f1_score = 0.0\n",
    "\n",
    "    if TP + FP + FN > 0:\n",
    "        iou = TP / (TP + FP + FN)\n",
    "    else:\n",
    "        iou = 0.0\n",
    "\n",
    "    return TP, FP, FN, precision, recall, f1_score, iou"
   ]
  },
  {
   "cell_type": "code",
   "execution_count": 16,
   "metadata": {},
   "outputs": [
    {
     "name": "stdout",
     "output_type": "stream",
     "text": [
      "Forest loss area (in pixels): 63247\n",
      "Forest recovery area (in pixels): 0\n",
      "Precision: 0.7570477651113887\n",
      "Recall: 0.6294334165899829\n",
      "F1-score: 0.6873676579311929\n",
      "IoU: 0.5236558904589003\n"
     ]
    }
   ],
   "source": [
    "# Step 1: 计算差异栅格\n",
    "difference_raster, transform, width, height = calculate_forest_loss('Zone_Dataset_Mask_2020.shp', 'Zone_Dataset_Mask_2021.shp')\n",
    "\n",
    "merged_raster =  manual_forest_loss(transform, width, height, '622_975_2021.shp')\n",
    "\n",
    "precision, recall, f1, iou = calculate_metrics(difference_raster, merged_raster)\n",
    "\n",
    "#calculate_metrics_between_rasters(difference_raster, merged_raster)\n"
   ]
  }
 ],
 "metadata": {
  "kernelspec": {
   "display_name": "geo_env",
   "language": "python",
   "name": "python3"
  },
  "language_info": {
   "codemirror_mode": {
    "name": "ipython",
    "version": 3
   },
   "file_extension": ".py",
   "mimetype": "text/x-python",
   "name": "python",
   "nbconvert_exporter": "python",
   "pygments_lexer": "ipython3",
   "version": "3.9.18"
  }
 },
 "nbformat": 4,
 "nbformat_minor": 2
}
