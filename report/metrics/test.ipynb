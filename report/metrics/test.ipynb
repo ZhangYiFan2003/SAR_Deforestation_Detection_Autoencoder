{
 "cells": [
  {
   "cell_type": "code",
   "execution_count": 1,
   "metadata": {},
   "outputs": [
    {
     "name": "stderr",
     "output_type": "stream",
     "text": [
      "/home/yifan/anaconda3/envs/myenv/lib/python3.9/site-packages/pyproj/__init__.py:95: UserWarning: pyproj unable to set database path.\n",
      "  _pyproj_global_context_initialize()\n"
     ]
    }
   ],
   "source": [
    "import pyproj\n",
    "pyproj.datadir.set_data_dir(\"/home/yifan/anaconda3/envs/myenv/share/proj\")"
   ]
  },
  {
   "cell_type": "code",
   "execution_count": 2,
   "metadata": {},
   "outputs": [
    {
     "name": "stdout",
     "output_type": "stream",
     "text": [
      "/home/yifan/anaconda3/envs/myenv/share/proj\n"
     ]
    }
   ],
   "source": [
    "print(pyproj.datadir.get_data_dir())"
   ]
  },
  {
   "cell_type": "code",
   "execution_count": 3,
   "metadata": {},
   "outputs": [
    {
     "name": "stdout",
     "output_type": "stream",
     "text": [
      "3.9.18 | packaged by conda-forge | (main, Dec 23 2023, 16:33:10) \n",
      "[GCC 12.3.0]\n",
      "3.6.1\n",
      "0.14.2\n"
     ]
    }
   ],
   "source": [
    "import sys\n",
    "import pyproj\n",
    "import geopandas as gpd\n",
    "print(sys.version)\n",
    "print(pyproj.__version__)\n",
    "print(gpd.__version__)\n",
    "import rasterio\n",
    "from rasterio import features\n",
    "import numpy as np\n",
    "from sklearn.metrics import f1_score, precision_score, recall_score, jaccard_score, confusion_matrix"
   ]
  },
  {
   "cell_type": "code",
   "execution_count": 7,
   "metadata": {},
   "outputs": [
    {
     "name": "stdout",
     "output_type": "stream",
     "text": [
      "        fid  DN                                           geometry\n",
      "0       4.0   1  POLYGON ((-70.49385 -8.40742, -70.49358 -8.407...\n",
      "1      10.0   1  POLYGON ((-70.53023 -8.40742, -70.52969 -8.407...\n",
      "2      11.0   1  POLYGON ((-70.50813 -8.40742, -70.50733 -8.407...\n",
      "3      17.0   1  POLYGON ((-70.49331 -8.40769, -70.49277 -8.407...\n",
      "4      19.0   1  POLYGON ((-70.62483 -8.40796, -70.62456 -8.407...\n",
      "..      ...  ..                                                ...\n",
      "653  2926.0   1  POLYGON ((-70.56473 -8.57748, -70.56446 -8.577...\n",
      "654  2928.0   1  POLYGON ((-70.65097 -8.57721, -70.65017 -8.577...\n",
      "655  2930.0   1  POLYGON ((-70.64477 -8.58071, -70.64451 -8.580...\n",
      "656  2931.0   1  POLYGON ((-70.54506 -8.46887, -70.54479 -8.468...\n",
      "657  2938.0   1  POLYGON ((-70.55126 -8.58071, -70.55099 -8.580...\n",
      "\n",
      "[658 rows x 3 columns]\n",
      "        fid  DN                                           geometry\n",
      "0       4.0   1  POLYGON ((-70.49385 -8.40742, -70.49358 -8.407...\n",
      "1      10.0   1  POLYGON ((-70.53023 -8.40742, -70.52969 -8.407...\n",
      "2      11.0   1  POLYGON ((-70.50813 -8.40742, -70.50733 -8.407...\n",
      "3      17.0   1  POLYGON ((-70.49331 -8.40769, -70.49277 -8.407...\n",
      "4      19.0   1  POLYGON ((-70.62483 -8.40796, -70.62456 -8.407...\n",
      "..      ...  ..                                                ...\n",
      "671  2902.0   1  POLYGON ((-70.56473 -8.57748, -70.56446 -8.577...\n",
      "672  2904.0   1  POLYGON ((-70.65097 -8.57721, -70.65017 -8.577...\n",
      "673  2906.0   1  POLYGON ((-70.64477 -8.58071, -70.64451 -8.580...\n",
      "674  2907.0   1  POLYGON ((-70.54506 -8.46887, -70.54479 -8.468...\n",
      "675  2914.0   1  POLYGON ((-70.55126 -8.58071, -70.55099 -8.580...\n",
      "\n",
      "[676 rows x 3 columns]\n"
     ]
    }
   ],
   "source": [
    "forest_2020 = gpd.read_file('Zone_Dataset_Mask_2020.shp')\n",
    "print(forest_2020)\n",
    "forest_2021 = gpd.read_file('Zone_Dataset_Mask_2021.shp')\n",
    "print(forest_2021)"
   ]
  },
  {
   "cell_type": "code",
   "execution_count": 9,
   "metadata": {},
   "outputs": [],
   "source": [
    "# 定义栅格化的分辨率\n",
    "pixel_size = 0.0001  # 根据你的需求调整分辨率\n",
    "\n",
    "# 获取两者的联合边界（bounding box）\n",
    "bounds = forest_2020.total_bounds\n",
    "minx, miny, maxx, maxy = bounds\n",
    "\n",
    "# 创建输出的栅格形状\n",
    "width = int((maxx - minx) / pixel_size)\n",
    "height = int((maxy - miny) / pixel_size)\n",
    "\n",
    "# 定义栅格的元数据\n",
    "transform = rasterio.transform.from_bounds(minx, miny, maxx, maxy, width, height)\n",
    "\n",
    "# 栅格化函数\n",
    "def rasterize_polygon(gdf, transform, width, height):\n",
    "    shapes = [(geom, 1) for geom in gdf.geometry]\n",
    "    raster = features.rasterize(shapes, out_shape=(height, width), transform=transform, fill=0, dtype='int16')\n",
    "    return raster"
   ]
  },
  {
   "cell_type": "code",
   "execution_count": 10,
   "metadata": {},
   "outputs": [],
   "source": [
    "raster1 = rasterize_polygon(forest_2020,transform,width,height)\n",
    "raster2 = rasterize_polygon(forest_2021,transform,width,height)"
   ]
  },
  {
   "cell_type": "code",
   "execution_count": 11,
   "metadata": {},
   "outputs": [
    {
     "name": "stdout",
     "output_type": "stream",
     "text": [
      "[[ True  True  True ... False False False]\n",
      " [ True  True  True ... False False False]\n",
      " [ True  True  True ... False False False]\n",
      " ...\n",
      " [ True  True  True ...  True  True  True]\n",
      " [ True  True  True ...  True  True  True]\n",
      " [ True  True  True ...  True  True  True]]\n"
     ]
    }
   ],
   "source": [
    "overlap = np.logical_and(raster1 == 1, raster2 == 1)\n",
    "print(overlap)"
   ]
  },
  {
   "cell_type": "code",
   "execution_count": 12,
   "metadata": {},
   "outputs": [],
   "source": [
    "raster1_flat = raster1.flatten()\n",
    "raster2_flat = raster2.flatten()"
   ]
  },
  {
   "cell_type": "code",
   "execution_count": 13,
   "metadata": {},
   "outputs": [],
   "source": [
    "# 计算分类评估指标\n",
    "precision = precision_score(raster1_flat, raster2_flat, average='binary')\n",
    "recall = recall_score(raster1_flat, raster2_flat, average='binary')\n",
    "f1 = f1_score(raster1_flat, raster2_flat, average='binary')\n",
    "jaccard = jaccard_score(raster1_flat, raster2_flat, average='binary')"
   ]
  },
  {
   "cell_type": "code",
   "execution_count": 14,
   "metadata": {},
   "outputs": [
    {
     "name": "stdout",
     "output_type": "stream",
     "text": [
      "Chevauchement: 2190192\n",
      "Precision: 1.0\n",
      "Recall: 0.975772229283699\n",
      "F1-Score: 0.9877375689579944\n",
      "Jaccard Coefficient: 0.975772229283699\n"
     ]
    }
   ],
   "source": [
    "# 输出结果\n",
    "print(f\"Chevauchement: {np.sum(overlap)}\")\n",
    "print(f\"Precision: {precision}\")\n",
    "print(f\"Recall: {recall}\")\n",
    "print(f\"F1-Score: {f1}\")\n",
    "print(f\"Jaccard Coefficient: {jaccard}\")"
   ]
  }
 ],
 "metadata": {
  "kernelspec": {
   "display_name": "myenv",
   "language": "python",
   "name": "python3"
  },
  "language_info": {
   "codemirror_mode": {
    "name": "ipython",
    "version": 3
   },
   "file_extension": ".py",
   "mimetype": "text/x-python",
   "name": "python",
   "nbconvert_exporter": "python",
   "pygments_lexer": "ipython3",
   "version": "3.9.18"
  }
 },
 "nbformat": 4,
 "nbformat_minor": 2
}
