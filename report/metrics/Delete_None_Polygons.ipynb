{
 "cells": [
  {
   "cell_type": "code",
   "execution_count": 1,
   "metadata": {},
   "outputs": [
    {
     "name": "stdout",
     "output_type": "stream",
     "text": [
      "/home/yifan/anaconda3/envs/myenv/share/proj\n"
     ]
    },
    {
     "name": "stderr",
     "output_type": "stream",
     "text": [
      "/home/yifan/anaconda3/envs/myenv/lib/python3.9/site-packages/pyproj/__init__.py:95: UserWarning: pyproj unable to set database path.\n",
      "  _pyproj_global_context_initialize()\n"
     ]
    }
   ],
   "source": [
    "import pyproj\n",
    "pyproj.datadir.set_data_dir(\"/home/yifan/anaconda3/envs/myenv/share/proj\")\n",
    "print(pyproj.datadir.get_data_dir())"
   ]
  },
  {
   "cell_type": "code",
   "execution_count": 2,
   "metadata": {},
   "outputs": [],
   "source": [
    "import geopandas as gpd\n",
    "import os"
   ]
  },
  {
   "cell_type": "code",
   "execution_count": 3,
   "metadata": {},
   "outputs": [],
   "source": [
    "def delete_none_geometries(shp_file):\n",
    "    # 读取 shapefile\n",
    "    gdf = gpd.read_file(shp_file)\n",
    "    \n",
    "    # 打印文件名\n",
    "    print(f\"正在处理: {shp_file}\")\n",
    "    \n",
    "    # 删除 None 几何体\n",
    "    gdf_cleaned = gdf[gdf['geometry'].notnull()].copy()\n",
    "\n",
    "    # 创建新的文件名，加上 (1)\n",
    "    base_name, ext = os.path.splitext(shp_file)\n",
    "    new_file = base_name + \"(1)\" + ext\n",
    "    \n",
    "    # 保持所有原始文件结构，输出新的shp文件\n",
    "    gdf_cleaned.to_file(new_file)\n",
    "    \n",
    "    print(f\"已输出新的shapefile: {new_file}\")"
   ]
  },
  {
   "cell_type": "code",
   "execution_count": 4,
   "metadata": {},
   "outputs": [
    {
     "name": "stdout",
     "output_type": "stream",
     "text": [
      "       id           layer                            path  \\\n",
      "0    None  622_975_2022.4  /home/yifan/622_975_2022.4.shp   \n",
      "1    None  622_975_2022.4  /home/yifan/622_975_2022.4.shp   \n",
      "2    None  622_975_2022.4  /home/yifan/622_975_2022.4.shp   \n",
      "3    None  622_975_2022.4  /home/yifan/622_975_2022.4.shp   \n",
      "4    None  622_975_2022.4  /home/yifan/622_975_2022.4.shp   \n",
      "..    ...             ...                             ...   \n",
      "347  None  622_975_2022.8  /home/yifan/622_975_2022.8.shp   \n",
      "348  None  622_975_2022.8  /home/yifan/622_975_2022.8.shp   \n",
      "349  None  622_975_2022.8  /home/yifan/622_975_2022.8.shp   \n",
      "350  None  622_975_2022.8  /home/yifan/622_975_2022.8.shp   \n",
      "351  None            None                            None   \n",
      "\n",
      "                                              geometry  \n",
      "0    POLYGON ((-70.60855 -8.50258, -70.60820 -8.502...  \n",
      "1    POLYGON ((-70.53279 -8.53114, -70.53112 -8.530...  \n",
      "2    POLYGON ((-70.58787 -8.49786, -70.58731 -8.498...  \n",
      "3    POLYGON ((-70.57397 -8.56328, -70.57367 -8.563...  \n",
      "4    POLYGON ((-70.52861 -8.43283, -70.52804 -8.432...  \n",
      "..                                                 ...  \n",
      "347  POLYGON ((-70.51940 -8.56517, -70.51869 -8.564...  \n",
      "348  POLYGON ((-70.56799 -8.55720, -70.56774 -8.557...  \n",
      "349  POLYGON ((-70.56818 -8.55634, -70.56805 -8.556...  \n",
      "350  POLYGON ((-70.57034 -8.55785, -70.57026 -8.557...  \n",
      "351  POLYGON ((-70.52861 -8.42415, -70.52673 -8.423...  \n",
      "\n",
      "[352 rows x 4 columns]\n"
     ]
    }
   ],
   "source": [
    "polygone = gpd.read_file('622_975_2022.shp')\n",
    "print(polygone)"
   ]
  },
  {
   "cell_type": "code",
   "execution_count": 5,
   "metadata": {},
   "outputs": [
    {
     "name": "stdout",
     "output_type": "stream",
     "text": [
      "正在处理: 622_975_2022.shp\n",
      "已输出新的shapefile: 622_975_2022(1).shp\n"
     ]
    }
   ],
   "source": [
    "# 示例调用：请替换为你的 .shp 文件路径\n",
    "delete_none_geometries('622_975_2022.shp')"
   ]
  },
  {
   "cell_type": "code",
   "execution_count": 6,
   "metadata": {},
   "outputs": [
    {
     "name": "stdout",
     "output_type": "stream",
     "text": [
      "       id           layer                            path  \\\n",
      "0    None  622_975_2022.4  /home/yifan/622_975_2022.4.shp   \n",
      "1    None  622_975_2022.4  /home/yifan/622_975_2022.4.shp   \n",
      "2    None  622_975_2022.4  /home/yifan/622_975_2022.4.shp   \n",
      "3    None  622_975_2022.4  /home/yifan/622_975_2022.4.shp   \n",
      "4    None  622_975_2022.4  /home/yifan/622_975_2022.4.shp   \n",
      "..    ...             ...                             ...   \n",
      "347  None  622_975_2022.8  /home/yifan/622_975_2022.8.shp   \n",
      "348  None  622_975_2022.8  /home/yifan/622_975_2022.8.shp   \n",
      "349  None  622_975_2022.8  /home/yifan/622_975_2022.8.shp   \n",
      "350  None  622_975_2022.8  /home/yifan/622_975_2022.8.shp   \n",
      "351  None            None                            None   \n",
      "\n",
      "                                              geometry  \n",
      "0    POLYGON ((-70.60855 -8.50258, -70.60820 -8.502...  \n",
      "1    POLYGON ((-70.53279 -8.53114, -70.53112 -8.530...  \n",
      "2    POLYGON ((-70.58787 -8.49786, -70.58731 -8.498...  \n",
      "3    POLYGON ((-70.57397 -8.56328, -70.57367 -8.563...  \n",
      "4    POLYGON ((-70.52861 -8.43283, -70.52804 -8.432...  \n",
      "..                                                 ...  \n",
      "347  POLYGON ((-70.51940 -8.56517, -70.51869 -8.564...  \n",
      "348  POLYGON ((-70.56799 -8.55720, -70.56774 -8.557...  \n",
      "349  POLYGON ((-70.56818 -8.55634, -70.56805 -8.556...  \n",
      "350  POLYGON ((-70.57034 -8.55785, -70.57026 -8.557...  \n",
      "351  POLYGON ((-70.52861 -8.42415, -70.52673 -8.423...  \n",
      "\n",
      "[352 rows x 4 columns]\n"
     ]
    }
   ],
   "source": [
    "polygone = gpd.read_file('622_975_2022(1).shp')\n",
    "print(polygone)"
   ]
  }
 ],
 "metadata": {
  "kernelspec": {
   "display_name": "myenv",
   "language": "python",
   "name": "python3"
  },
  "language_info": {
   "codemirror_mode": {
    "name": "ipython",
    "version": 3
   },
   "file_extension": ".py",
   "mimetype": "text/x-python",
   "name": "python",
   "nbconvert_exporter": "python",
   "pygments_lexer": "ipython3",
   "version": "3.9.18"
  }
 },
 "nbformat": 4,
 "nbformat_minor": 2
}
