{
 "cells": [
  {
   "cell_type": "code",
   "execution_count": 1,
   "metadata": {},
   "outputs": [
    {
     "name": "stdout",
     "output_type": "stream",
     "text": [
      "/home/yifan/anaconda3/envs/myenv/share/proj\n"
     ]
    },
    {
     "name": "stderr",
     "output_type": "stream",
     "text": [
      "/home/yifan/anaconda3/envs/myenv/lib/python3.9/site-packages/pyproj/__init__.py:95: UserWarning: pyproj unable to set database path.\n",
      "  _pyproj_global_context_initialize()\n"
     ]
    }
   ],
   "source": [
    "import pyproj\n",
    "pyproj.datadir.set_data_dir(\"/home/yifan/anaconda3/envs/myenv/share/proj\")\n",
    "print(pyproj.datadir.get_data_dir())"
   ]
  },
  {
   "cell_type": "code",
   "execution_count": 2,
   "metadata": {},
   "outputs": [],
   "source": [
    "import geopandas as gpd\n",
    "import pandas as pd\n",
    "from shapely.geometry import Polygon\n",
    "from shapely.ops import unary_union"
   ]
  },
  {
   "cell_type": "code",
   "execution_count": 3,
   "metadata": {},
   "outputs": [],
   "source": [
    "# 第一步：读取2019和2020年的forest_mask文件\n",
    "forest_2019 = gpd.read_file('Zone_Dataset_Mask_2020.shp')\n",
    "forest_2020 = gpd.read_file('Zone_Dataset_Mask_2021.shp')\n",
    "\n",
    "# 确保两年的数据使用相同的坐标参考系 (CRS)\n",
    "if forest_2019.crs != forest_2020.crs:\n",
    "    forest_2020 = forest_2020.to_crs(forest_2019.crs)\n",
    "\n",
    "# 投影到合适的投影坐标系（例如UTM），以确保面积计算准确\n",
    "projected_crs = 'EPSG:4326'  # 请根据实际情况选择合适的UTM区域\n",
    "forest_2019 = forest_2019.to_crs(projected_crs)\n",
    "forest_2020 = forest_2020.to_crs(projected_crs)\n",
    "\n",
    "# 计算两年之间森林减少的区域（前一年值为1，后一年值为0）\n",
    "forest_loss = gpd.overlay(forest_2019, forest_2020, how='difference')\n"
   ]
  },
  {
   "cell_type": "code",
   "execution_count": 4,
   "metadata": {},
   "outputs": [
    {
     "name": "stdout",
     "output_type": "stream",
     "text": [
      "Invalid geometries found in 622_975_2021.4.shp, attempting to fix...\n",
      "Invalid geometries found in 622_975_2021.5.shp, attempting to fix...\n",
      "Invalid geometries found in 622_975_2021.6.shp, attempting to fix...\n",
      "Invalid geometries found in 622_975_2021.7.shp, attempting to fix...\n",
      "Invalid geometries found in 622_975_2021.8.shp, attempting to fix...\n",
      "Invalid geometries found in 622_975_2021.9.shp, attempting to fix...\n",
      "Dissolve operation completed.\n"
     ]
    },
    {
     "name": "stderr",
     "output_type": "stream",
     "text": [
      "/tmp/ipykernel_52372/1315934556.py:25: FutureWarning: The behavior of DataFrame concatenation with empty or all-NA entries is deprecated. In a future version, this will no longer exclude empty or all-NA columns when determining the result dtypes. To retain the old behavior, exclude the relevant entries before the concat operation.\n",
      "  manual_deforestation = gpd.GeoDataFrame(pd.concat(manual_deforestation_list, ignore_index=True))\n"
     ]
    }
   ],
   "source": [
    "# 第二步：读取手动标注的森林砍伐区域文件，并叠加\n",
    "manual_deforestation_list = []\n",
    "manual_deforestation_files = ['622_975_2021.4.shp', '622_975_2021.5.shp', '622_975_2021.6.shp', \n",
    "                              '622_975_2021.7.shp', '622_975_2021.8.shp', '622_975_2021.9.shp']\n",
    "\n",
    "# 读取并验证所有手动标注的文件\n",
    "for file in manual_deforestation_files:\n",
    "    df = gpd.read_file(file)\n",
    "    \n",
    "    # 检查并修复无效几何体\n",
    "    df['validity'] = df.is_valid\n",
    "    if not df['validity'].all():\n",
    "        print(f\"Invalid geometries found in {file}, attempting to fix...\")\n",
    "        df['geometry'] = df['geometry'].buffer(0)  # 尝试修复无效几何体\n",
    "    \n",
    "    # 只保留有效的几何体\n",
    "    df_valid = df[df.is_valid]\n",
    "    \n",
    "    if not df_valid.empty:\n",
    "        manual_deforestation_list.append(df_valid)\n",
    "\n",
    "# 检查是否有任何有效的几何体\n",
    "if manual_deforestation_list:\n",
    "    # 合并所有有效的手动标注的砍伐区域\n",
    "    manual_deforestation = gpd.GeoDataFrame(pd.concat(manual_deforestation_list, ignore_index=True))\n",
    "    \n",
    "    # 如果几何体全部有效，则执行 dissolve 操作\n",
    "    manual_deforestation = manual_deforestation.dissolve()\n",
    "    print(\"Dissolve operation completed.\")\n",
    "else:\n",
    "    print(\"No valid geometries were found across the shapefiles.\")"
   ]
  },
  {
   "cell_type": "code",
   "execution_count": null,
   "metadata": {},
   "outputs": [],
   "source": [
    "# 第三步：比较“第一步相减的结果”和“第二步相加的结果”，计算指标\n",
    "# 计算真正例（TP）：两者的交集\n",
    "TP = gpd.overlay(forest_loss, manual_deforestation, how='intersection')\n",
    "\n",
    "# 计算假正例（FP）：forest_loss中减去手动标注的部分\n",
    "FP = gpd.overlay(forest_loss, manual_deforestation, how='difference')\n",
    "\n",
    "# 计算假负例（FN）：手动标注中减去forest_loss的部分\n",
    "FN = gpd.overlay(manual_deforestation, forest_loss, how='difference')\n",
    "\n",
    "# 计算面积\n",
    "TP_area = TP.geometry.area.sum()\n",
    "FP_area = FP.geometry.area.sum()\n",
    "FN_area = FN.geometry.area.sum()"
   ]
  },
  {
   "cell_type": "code",
   "execution_count": null,
   "metadata": {},
   "outputs": [],
   "source": [
    "# 计算评估指标\n",
    "if (TP_area + FP_area) == 0:\n",
    "    precision = 0\n",
    "else:\n",
    "    precision = TP_area / (TP_area + FP_area)\n",
    "\n",
    "if (TP_area + FN_area) == 0:\n",
    "    recall = 0\n",
    "else:\n",
    "    recall = TP_area / (TP_area + FN_area)\n",
    "\n",
    "if (precision + recall) == 0:\n",
    "    f1_score = 0\n",
    "else:\n",
    "    f1_score = 2 * (precision * recall) / (precision + recall)\n",
    "\n",
    "if (TP_area + FP_area + FN_area) == 0:\n",
    "    jaccard_index = 0\n",
    "else:\n",
    "    jaccard_index = TP_area / (TP_area + FP_area + FN_area)\n",
    "\n",
    "# 输出结果\n",
    "print(f'Precision（精确率）：{precision}')\n",
    "print(f'Recall（召回率）：{recall}')\n",
    "print(f'F1-score：{f1_score}')\n",
    "print(f'Jaccard Index（杰卡德指数）：{jaccard_index}')"
   ]
  }
 ],
 "metadata": {
  "kernelspec": {
   "display_name": "myenv",
   "language": "python",
   "name": "python3"
  },
  "language_info": {
   "codemirror_mode": {
    "name": "ipython",
    "version": 3
   },
   "file_extension": ".py",
   "mimetype": "text/x-python",
   "name": "python",
   "nbconvert_exporter": "python",
   "pygments_lexer": "ipython3",
   "version": "3.9.18"
  }
 },
 "nbformat": 4,
 "nbformat_minor": 2
}
